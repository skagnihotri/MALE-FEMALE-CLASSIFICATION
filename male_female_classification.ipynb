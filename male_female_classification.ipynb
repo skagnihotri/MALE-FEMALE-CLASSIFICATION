{
  "nbformat": 4,
  "nbformat_minor": 0,
  "metadata": {
    "colab": {
      "name": "male female classification.ipynb",
      "version": "0.3.2",
      "provenance": [],
      "collapsed_sections": [],
      "machine_shape": "hm",
      "include_colab_link": true
    },
    "kernelspec": {
      "name": "python3",
      "display_name": "Python 3"
    },
    "accelerator": "GPU"
  },
  "cells": [
    {
      "cell_type": "markdown",
      "metadata": {
        "id": "view-in-github",
        "colab_type": "text"
      },
      "source": [
        "<a href=\"https://colab.research.google.com/github/skagnihotri/MALE-FEMALE-CLASSIFICATION/blob/master/male_female_classification.ipynb\" target=\"_parent\"><img src=\"https://colab.research.google.com/assets/colab-badge.svg\" alt=\"Open In Colab\"/></a>"
      ]
    },
    {
      "cell_type": "markdown",
      "metadata": {
        "id": "KvYvECYY1SNr",
        "colab_type": "text"
      },
      "source": [
        "# MALE FEMALE CLASSIFICATION"
      ]
    },
    {
      "cell_type": "markdown",
      "metadata": {
        "id": "40wvVKkN1cyH",
        "colab_type": "text"
      },
      "source": [
        "## Loading Data"
      ]
    },
    {
      "cell_type": "code",
      "metadata": {
        "id": "6FLmPs4P1Rpz",
        "colab_type": "code",
        "outputId": "48ec7adf-a313-4e91-fcf9-225160434cf9",
        "colab": {
          "resources": {
            "http://localhost:8080/nbextensions/google.colab/files.js": {
              "data": "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",
              "ok": true,
              "headers": [
                [
                  "content-type",
                  "application/javascript"
                ]
              ],
              "status": 200,
              "status_text": ""
            }
          },
          "base_uri": "https://localhost:8080/",
          "height": 93
        }
      },
      "source": [
        "from google.colab import files\n",
        "files.upload()"
      ],
      "execution_count": 0,
      "outputs": [
        {
          "output_type": "display_data",
          "data": {
            "text/html": [
              "\n",
              "     <input type=\"file\" id=\"files-8d1e8a9b-13b4-40f7-8ff3-08392763d8e7\" name=\"files[]\" multiple disabled />\n",
              "     <output id=\"result-8d1e8a9b-13b4-40f7-8ff3-08392763d8e7\">\n",
              "      Upload widget is only available when the cell has been executed in the\n",
              "      current browser session. Please rerun this cell to enable.\n",
              "      </output>\n",
              "      <script src=\"/nbextensions/google.colab/files.js\"></script> "
            ],
            "text/plain": [
              "<IPython.core.display.HTML object>"
            ]
          },
          "metadata": {
            "tags": []
          }
        },
        {
          "output_type": "stream",
          "text": [
            "Saving kaggle.json to kaggle.json\n"
          ],
          "name": "stdout"
        },
        {
          "output_type": "execute_result",
          "data": {
            "text/plain": [
              "{'kaggle.json': b'{\"username\":\"smagni\",\"key\":\"b4fd8d61cfa7a806a19e09267e4f31d6\"}'}"
            ]
          },
          "metadata": {
            "tags": []
          },
          "execution_count": 2
        }
      ]
    },
    {
      "cell_type": "code",
      "metadata": {
        "id": "qKsOhMUS1Hp7",
        "colab_type": "code",
        "outputId": "638a323b-4145-49b9-f43f-28c3f7f38088",
        "colab": {
          "base_uri": "https://localhost:8080/",
          "height": 87
        }
      },
      "source": [
        "!pip install -q kaggle\n",
        "!mkdir -p ~/.kaggle\n",
        "!cp kaggle.json ~/.kaggle/\n",
        "!kaggle datasets download -d playlist/men-women-classification"
      ],
      "execution_count": 0,
      "outputs": [
        {
          "output_type": "stream",
          "text": [
            "Warning: Your Kaggle API key is readable by other users on this system! To fix this, you can run 'chmod 600 /root/.kaggle/kaggle.json'\n",
            "Downloading men-women-classification.zip to /content\n",
            " 96% 583M/606M [00:02<00:00, 250MB/s]\n",
            "100% 606M/606M [00:02<00:00, 229MB/s]\n"
          ],
          "name": "stdout"
        }
      ]
    },
    {
      "cell_type": "code",
      "metadata": {
        "id": "ADVLGHFP2uSa",
        "colab_type": "code",
        "colab": {}
      },
      "source": [
        "!unzip /content/men-women-classification.zip"
      ],
      "execution_count": 0,
      "outputs": []
    },
    {
      "cell_type": "code",
      "metadata": {
        "id": "5O4OQDnA9tBz",
        "colab_type": "code",
        "outputId": "a612dbcd-5b99-47d7-e5d8-c4686fd4f03b",
        "colab": {
          "base_uri": "https://localhost:8080/",
          "height": 34
        }
      },
      "source": [
        "from shutil import move\n",
        "!mkdir training\n",
        "move(\"men\", \"training\")\n",
        "move(\"women\", \"training\")"
      ],
      "execution_count": 0,
      "outputs": [
        {
          "output_type": "execute_result",
          "data": {
            "text/plain": [
              "'training/women'"
            ]
          },
          "metadata": {
            "tags": []
          },
          "execution_count": 5
        }
      ]
    },
    {
      "cell_type": "code",
      "metadata": {
        "id": "Gc3_Kq409423",
        "colab_type": "code",
        "colab": {}
      },
      "source": [
        "import numpy as np\n",
        "import pandas as pd\n",
        "import matplotlib.pyplot as plt\n",
        "import os\n",
        "from tensorflow.keras.preprocessing import image"
      ],
      "execution_count": 0,
      "outputs": []
    },
    {
      "cell_type": "code",
      "metadata": {
        "id": "nZTCx8X3-5cp",
        "colab_type": "code",
        "outputId": "f1e5a0cd-9eec-40d3-ec17-058f9f44309a",
        "colab": {
          "base_uri": "https://localhost:8080/",
          "height": 52
        }
      },
      "source": [
        "X = []\n",
        "y = []\n",
        "for category in os.listdir(\"/content/training\"):\n",
        "    print(category)\n",
        "    for img in os.listdir(f\"/content/training/{category}\"):\n",
        "        test_image = image.load_img(f\"/content/training/{category}/{img}\", target_size= (150, 150))\n",
        "        test_image = image.img_to_array(test_image)\n",
        "        X.append(test_image)\n",
        "        y.append(category)"
      ],
      "execution_count": 0,
      "outputs": [
        {
          "output_type": "stream",
          "text": [
            "women\n",
            "men\n"
          ],
          "name": "stdout"
        }
      ]
    },
    {
      "cell_type": "code",
      "metadata": {
        "id": "ABbqn07zAFcL",
        "colab_type": "code",
        "outputId": "62bafba2-3709-4604-a5ca-a4b5ff85c399",
        "colab": {
          "base_uri": "https://localhost:8080/",
          "height": 34
        }
      },
      "source": [
        "from sklearn.preprocessing import LabelEncoder\n",
        "from sklearn.utils import shuffle\n",
        "\n",
        "X_train = np.array(X)\n",
        "X_train = X_train / 255.0 \n",
        "y_train = np.array(y)\n",
        "label_y = LabelEncoder()\n",
        "y_train = label_y.fit_transform(y_train)\n",
        "X_train, y_train = shuffle(X_train, y_train)\n",
        "X_train.shape, y_train.shape"
      ],
      "execution_count": 0,
      "outputs": [
        {
          "output_type": "execute_result",
          "data": {
            "text/plain": [
              "((3330, 150, 150, 3), (3330,))"
            ]
          },
          "metadata": {
            "tags": []
          },
          "execution_count": 8
        }
      ]
    },
    {
      "cell_type": "code",
      "metadata": {
        "id": "1GWtjs5cGoPe",
        "colab_type": "code",
        "outputId": "cc4c9e22-4735-44d0-9799-7b9744c1ef8f",
        "colab": {
          "base_uri": "https://localhost:8080/",
          "height": 34
        }
      },
      "source": [
        "from sklearn.model_selection import train_test_split\n",
        "X_train, X_test, y_train, y_test = train_test_split(X_train, y_train, test_size= 0.2)\n",
        "X_train.shape, X_test.shape"
      ],
      "execution_count": 0,
      "outputs": [
        {
          "output_type": "execute_result",
          "data": {
            "text/plain": [
              "((2664, 150, 150, 3), (666, 150, 150, 3))"
            ]
          },
          "metadata": {
            "tags": []
          },
          "execution_count": 9
        }
      ]
    },
    {
      "cell_type": "code",
      "metadata": {
        "id": "B4yc-RjD-5wx",
        "colab_type": "code",
        "colab": {}
      },
      "source": [
        "from tensorflow.keras.preprocessing.image import ImageDataGenerator\n",
        "datagen = ImageDataGenerator(featurewise_center=False,\n",
        "                             featurewise_std_normalization=False,\n",
        "                             rotation_range=20,\n",
        "                             width_shift_range=0.2,\n",
        "                             height_shift_range=0.2,\n",
        "                             horizontal_flip=True,\n",
        "                             vertical_flip = True)\n",
        "datagen.fit(X_train)"
      ],
      "execution_count": 0,
      "outputs": []
    },
    {
      "cell_type": "code",
      "metadata": {
        "id": "avkpsW3DuHi5",
        "colab_type": "code",
        "colab": {}
      },
      "source": [
        "from tensorflow.keras.layers import Dense, Flatten, Conv2D, MaxPooling2D, Dropout\n",
        "from tensorflow.keras.models import Sequential\n",
        "from tensorflow import keras"
      ],
      "execution_count": 0,
      "outputs": []
    },
    {
      "cell_type": "code",
      "metadata": {
        "id": "zmb-jcjNya9q",
        "colab_type": "code",
        "colab": {}
      },
      "source": [
        "model = Sequential()\n",
        "\n",
        "model.add(Conv2D(filters= 64, kernel_size= (3, 3), strides= 1, padding= \"same\" , activation= 'relu', input_shape= (150, 150, 3)))\n",
        "model.add(MaxPooling2D(pool_size= (2, 2)))\n",
        "model.add(Conv2D(filters= 64, kernel_size= (3, 3), strides= 1, padding= \"same\", activation= 'relu'))\n",
        "model.add(MaxPooling2D(pool_size= (2, 2)))\n",
        "\n",
        "model.add(Flatten())\n",
        "\n",
        "model.add(Dense(units= 1024, activation= 'relu'))\n",
        "# model.add(Dropout(rate= 0.2))\n",
        "model.add(Dense(units= 512, activation= 'relu'))\n",
        "# model.add(Dropout(rate= 0.2))\n",
        "model.add(Dense(units= 1, activation= \"sigmoid\"))"
      ],
      "execution_count": 0,
      "outputs": []
    },
    {
      "cell_type": "code",
      "metadata": {
        "id": "9BVY-Srvyazc",
        "colab_type": "code",
        "colab": {}
      },
      "source": [
        "model.compile(optimizer= 'adam', loss= \"binary_crossentropy\", metrics=[\"accuracy\"])"
      ],
      "execution_count": 0,
      "outputs": []
    },
    {
      "cell_type": "code",
      "metadata": {
        "id": "1Jh5tFQIGwdv",
        "colab_type": "code",
        "outputId": "3bcf5c22-c47c-46d1-caf5-055608c49c66",
        "colab": {
          "base_uri": "https://localhost:8080/",
          "height": 1000
        }
      },
      "source": [
        "model.fit_generator(datagen.flow(X_train, y_train, batch_size=32), steps_per_epoch=len(X_train) / 32, epochs= 50, validation_data=(X_test, y_test))"
      ],
      "execution_count": 0,
      "outputs": [
        {
          "output_type": "stream",
          "text": [
            "Epoch 1/50\n",
            "84/83 [==============================] - 13s 151ms/step - loss: 0.8561 - acc: 0.5544 - val_loss: 0.6783 - val_acc: 0.5781\n",
            "Epoch 2/50\n",
            "84/83 [==============================] - 11s 131ms/step - loss: 0.6777 - acc: 0.5709 - val_loss: 0.6668 - val_acc: 0.5796\n",
            "Epoch 3/50\n",
            "84/83 [==============================] - 11s 130ms/step - loss: 0.6624 - acc: 0.6066 - val_loss: 0.6481 - val_acc: 0.6517\n",
            "Epoch 4/50\n",
            "84/83 [==============================] - 11s 129ms/step - loss: 0.6445 - acc: 0.6445 - val_loss: 0.6177 - val_acc: 0.6922\n",
            "Epoch 5/50\n",
            "84/83 [==============================] - 11s 131ms/step - loss: 0.6273 - acc: 0.6456 - val_loss: 0.5917 - val_acc: 0.6832\n",
            "Epoch 6/50\n",
            "84/83 [==============================] - 11s 125ms/step - loss: 0.6295 - acc: 0.6584 - val_loss: 0.6019 - val_acc: 0.6892\n",
            "Epoch 7/50\n",
            "84/83 [==============================] - 11s 129ms/step - loss: 0.6133 - acc: 0.6637 - val_loss: 0.6075 - val_acc: 0.6712\n",
            "Epoch 8/50\n",
            "84/83 [==============================] - 11s 131ms/step - loss: 0.6103 - acc: 0.6745 - val_loss: 0.5948 - val_acc: 0.6967\n",
            "Epoch 9/50\n",
            "84/83 [==============================] - 11s 129ms/step - loss: 0.6024 - acc: 0.6682 - val_loss: 0.5861 - val_acc: 0.6877\n",
            "Epoch 10/50\n",
            "84/83 [==============================] - 11s 130ms/step - loss: 0.6032 - acc: 0.6843 - val_loss: 0.6345 - val_acc: 0.6907\n",
            "Epoch 11/50\n",
            "84/83 [==============================] - 11s 130ms/step - loss: 0.5974 - acc: 0.6832 - val_loss: 0.5839 - val_acc: 0.7192\n",
            "Epoch 12/50\n",
            "84/83 [==============================] - 11s 130ms/step - loss: 0.5797 - acc: 0.7008 - val_loss: 0.5783 - val_acc: 0.7177\n",
            "Epoch 13/50\n",
            "84/83 [==============================] - 11s 131ms/step - loss: 0.6106 - acc: 0.6580 - val_loss: 0.5835 - val_acc: 0.6922\n",
            "Epoch 14/50\n",
            "84/83 [==============================] - 11s 126ms/step - loss: 0.5873 - acc: 0.6881 - val_loss: 0.5607 - val_acc: 0.7087\n",
            "Epoch 15/50\n",
            "84/83 [==============================] - 11s 134ms/step - loss: 0.5821 - acc: 0.6903 - val_loss: 0.5621 - val_acc: 0.7087\n",
            "Epoch 16/50\n",
            "84/83 [==============================] - 11s 129ms/step - loss: 0.5742 - acc: 0.6956 - val_loss: 0.5563 - val_acc: 0.7072\n",
            "Epoch 17/50\n",
            "84/83 [==============================] - 11s 130ms/step - loss: 0.5738 - acc: 0.6926 - val_loss: 0.5473 - val_acc: 0.7372\n",
            "Epoch 18/50\n",
            "84/83 [==============================] - 11s 131ms/step - loss: 0.5573 - acc: 0.7065 - val_loss: 0.5410 - val_acc: 0.7087\n",
            "Epoch 19/50\n",
            "84/83 [==============================] - 11s 128ms/step - loss: 0.5613 - acc: 0.7020 - val_loss: 0.5310 - val_acc: 0.7282\n",
            "Epoch 20/50\n",
            "84/83 [==============================] - 11s 126ms/step - loss: 0.5703 - acc: 0.7001 - val_loss: 0.6022 - val_acc: 0.7042\n",
            "Epoch 21/50\n",
            "84/83 [==============================] - 11s 126ms/step - loss: 0.5618 - acc: 0.7106 - val_loss: 0.5293 - val_acc: 0.7192\n",
            "Epoch 22/50\n",
            "84/83 [==============================] - 11s 129ms/step - loss: 0.5662 - acc: 0.7102 - val_loss: 0.5508 - val_acc: 0.7192\n",
            "Epoch 23/50\n",
            "84/83 [==============================] - 11s 128ms/step - loss: 0.5731 - acc: 0.7132 - val_loss: 0.5925 - val_acc: 0.7132\n",
            "Epoch 24/50\n",
            "84/83 [==============================] - 11s 126ms/step - loss: 0.5644 - acc: 0.7023 - val_loss: 0.6380 - val_acc: 0.6697\n",
            "Epoch 25/50\n",
            "84/83 [==============================] - 11s 129ms/step - loss: 0.5636 - acc: 0.6986 - val_loss: 0.5339 - val_acc: 0.7282\n",
            "Epoch 26/50\n",
            "84/83 [==============================] - 11s 128ms/step - loss: 0.5626 - acc: 0.7057 - val_loss: 0.5219 - val_acc: 0.7372\n",
            "Epoch 27/50\n",
            "84/83 [==============================] - 11s 128ms/step - loss: 0.5498 - acc: 0.7158 - val_loss: 0.5418 - val_acc: 0.7372\n",
            "Epoch 28/50\n",
            "84/83 [==============================] - 11s 129ms/step - loss: 0.5526 - acc: 0.7185 - val_loss: 0.5599 - val_acc: 0.7042\n",
            "Epoch 29/50\n",
            "84/83 [==============================] - 11s 127ms/step - loss: 0.5384 - acc: 0.7102 - val_loss: 0.5231 - val_acc: 0.7222\n",
            "Epoch 30/50\n",
            "84/83 [==============================] - 11s 130ms/step - loss: 0.5450 - acc: 0.7173 - val_loss: 0.5837 - val_acc: 0.7042\n",
            "Epoch 31/50\n",
            "84/83 [==============================] - 11s 130ms/step - loss: 0.5299 - acc: 0.7365 - val_loss: 0.5236 - val_acc: 0.7192\n",
            "Epoch 32/50\n",
            "84/83 [==============================] - 11s 129ms/step - loss: 0.5404 - acc: 0.7170 - val_loss: 0.5498 - val_acc: 0.7012\n",
            "Epoch 33/50\n",
            "84/83 [==============================] - 11s 131ms/step - loss: 0.5367 - acc: 0.7294 - val_loss: 0.5185 - val_acc: 0.7477\n",
            "Epoch 34/50\n",
            "84/83 [==============================] - 11s 128ms/step - loss: 0.5312 - acc: 0.7260 - val_loss: 0.5315 - val_acc: 0.7057\n",
            "Epoch 35/50\n",
            "84/83 [==============================] - 11s 130ms/step - loss: 0.5277 - acc: 0.7233 - val_loss: 0.5244 - val_acc: 0.7132\n",
            "Epoch 36/50\n",
            "84/83 [==============================] - 11s 130ms/step - loss: 0.5412 - acc: 0.7275 - val_loss: 0.5539 - val_acc: 0.7012\n",
            "Epoch 37/50\n",
            "84/83 [==============================] - 11s 128ms/step - loss: 0.5303 - acc: 0.7309 - val_loss: 0.5458 - val_acc: 0.7087\n",
            "Epoch 38/50\n",
            "84/83 [==============================] - 11s 129ms/step - loss: 0.5259 - acc: 0.7346 - val_loss: 0.5456 - val_acc: 0.7117\n",
            "Epoch 39/50\n",
            "84/83 [==============================] - 11s 130ms/step - loss: 0.5325 - acc: 0.7185 - val_loss: 0.5507 - val_acc: 0.7282\n",
            "Epoch 40/50\n",
            "84/83 [==============================] - 11s 127ms/step - loss: 0.5238 - acc: 0.7357 - val_loss: 0.5393 - val_acc: 0.7252\n",
            "Epoch 41/50\n",
            "84/83 [==============================] - 10s 125ms/step - loss: 0.5242 - acc: 0.7331 - val_loss: 0.5272 - val_acc: 0.7282\n",
            "Epoch 42/50\n",
            "84/83 [==============================] - 11s 128ms/step - loss: 0.5160 - acc: 0.7335 - val_loss: 0.5216 - val_acc: 0.7312\n",
            "Epoch 43/50\n",
            "84/83 [==============================] - 11s 127ms/step - loss: 0.5210 - acc: 0.7447 - val_loss: 0.5149 - val_acc: 0.7312\n",
            "Epoch 44/50\n",
            "84/83 [==============================] - 11s 127ms/step - loss: 0.5320 - acc: 0.7316 - val_loss: 0.5104 - val_acc: 0.7297\n",
            "Epoch 45/50\n",
            "84/83 [==============================] - 11s 128ms/step - loss: 0.5221 - acc: 0.7387 - val_loss: 0.5218 - val_acc: 0.7267\n",
            "Epoch 46/50\n",
            "84/83 [==============================] - 11s 129ms/step - loss: 0.5140 - acc: 0.7335 - val_loss: 0.5442 - val_acc: 0.7192\n",
            "Epoch 47/50\n",
            "84/83 [==============================] - 11s 130ms/step - loss: 0.5181 - acc: 0.7350 - val_loss: 0.5133 - val_acc: 0.7508\n",
            "Epoch 48/50\n",
            "84/83 [==============================] - 11s 129ms/step - loss: 0.5127 - acc: 0.7429 - val_loss: 0.5032 - val_acc: 0.7492\n",
            "Epoch 49/50\n",
            "84/83 [==============================] - 11s 129ms/step - loss: 0.5127 - acc: 0.7436 - val_loss: 0.5220 - val_acc: 0.7342\n",
            "Epoch 50/50\n",
            "84/83 [==============================] - 11s 125ms/step - loss: 0.5193 - acc: 0.7391 - val_loss: 0.5307 - val_acc: 0.7477\n"
          ],
          "name": "stdout"
        },
        {
          "output_type": "execute_result",
          "data": {
            "text/plain": [
              "<tensorflow.python.keras.callbacks.History at 0x7f0bc3103128>"
            ]
          },
          "metadata": {
            "tags": []
          },
          "execution_count": 31
        }
      ]
    },
    {
      "cell_type": "code",
      "metadata": {
        "id": "KJRwuPP-6CL7",
        "colab_type": "code",
        "outputId": "73f1e069-b623-4e87-dad1-fc141bb1195c",
        "colab": {
          "base_uri": "https://localhost:8080/",
          "height": 52
        }
      },
      "source": [
        "model.evaluate(X_test, y_test)"
      ],
      "execution_count": 0,
      "outputs": [
        {
          "output_type": "stream",
          "text": [
            "666/666 [==============================] - 0s 615us/sample - loss: 0.5319 - acc: 0.7477\n"
          ],
          "name": "stdout"
        },
        {
          "output_type": "execute_result",
          "data": {
            "text/plain": [
              "[0.5319278430831325, 0.7477477]"
            ]
          },
          "metadata": {
            "tags": []
          },
          "execution_count": 32
        }
      ]
    },
    {
      "cell_type": "code",
      "metadata": {
        "id": "LXL6DQQHl_GU",
        "colab_type": "code",
        "colab": {}
      },
      "source": [
        ""
      ],
      "execution_count": 0,
      "outputs": []
    },
    {
      "cell_type": "code",
      "metadata": {
        "id": "EmUNJnHa-3qa",
        "colab_type": "code",
        "colab": {}
      },
      "source": [
        ""
      ],
      "execution_count": 0,
      "outputs": []
    },
    {
      "cell_type": "code",
      "metadata": {
        "id": "HPhV3OD4_UZ-",
        "colab_type": "code",
        "colab": {}
      },
      "source": [
        ""
      ],
      "execution_count": 0,
      "outputs": []
    }
  ]
}